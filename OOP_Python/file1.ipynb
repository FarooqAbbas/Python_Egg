{
 "cells": [
  {
   "cell_type": "code",
   "execution_count": 7,
   "metadata": {},
   "outputs": [],
   "source": [
    "class Computer:\n",
    "\tdef config(self):\n",
    "\t\tprint(\"i5 ,16Gb ,250Gb\")"
   ]
  },
  {
   "cell_type": "code",
   "execution_count": 10,
   "metadata": {},
   "outputs": [
    {
     "name": "stdout",
     "output_type": "stream",
     "text": [
      "i5 ,16Gb ,250Gb\n",
      "i5 ,16Gb ,250Gb\n",
      "<class '__main__.Computer'>\n"
     ]
    }
   ],
   "source": [
    "com1=Computer()\n",
    "com2=Computer()\n",
    "\n",
    "com1.config()\n",
    "Computer.config(com2)\n",
    "\n",
    "print(type(com1))"
   ]
  }
 ],
 "metadata": {
  "kernelspec": {
   "display_name": "Python 3",
   "language": "python",
   "name": "python3"
  },
  "language_info": {
   "codemirror_mode": {
    "name": "ipython",
    "version": 3
   },
   "file_extension": ".py",
   "mimetype": "text/x-python",
   "name": "python",
   "nbconvert_exporter": "python",
   "pygments_lexer": "ipython3",
   "version": "3.7.0"
  }
 },
 "nbformat": 4,
 "nbformat_minor": 2
}
