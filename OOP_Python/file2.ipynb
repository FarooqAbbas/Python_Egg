{
 "cells": [
  {
   "cell_type": "code",
   "execution_count": 17,
   "metadata": {},
   "outputs": [],
   "source": [
    "class Computer:\n",
    "    def __init__(self,cpu,ram):\n",
    "        self.CPU=cpu\n",
    "        self.RAM=ram\n",
    "        \n",
    "    def config(self):\n",
    "        print(\"The configuration is .:\", self.CPU,self.RAM)"
   ]
  },
  {
   "cell_type": "code",
   "execution_count": 18,
   "metadata": {},
   "outputs": [
    {
     "name": "stdout",
     "output_type": "stream",
     "text": [
      "The configuration is .: i5 16Gb\n",
      "The configuration is .: Rayen 8Gb\n"
     ]
    }
   ],
   "source": [
    "com1=Computer(\"i5\",\"16Gb\")\n",
    "com2=Computer(\"Rayen\",\"8Gb\")\n",
    "\n",
    "com1.config()\n",
    "com2.config()"
   ]
  }
 ],
 "metadata": {
  "kernelspec": {
   "display_name": "Python 3",
   "language": "python",
   "name": "python3"
  },
  "language_info": {
   "codemirror_mode": {
    "name": "ipython",
    "version": 3
   },
   "file_extension": ".py",
   "mimetype": "text/x-python",
   "name": "python",
   "nbconvert_exporter": "python",
   "pygments_lexer": "ipython3",
   "version": "3.7.0"
  }
 },
 "nbformat": 4,
 "nbformat_minor": 2
}
