{
 "cells": [
  {
   "cell_type": "code",
   "execution_count": 12,
   "metadata": {},
   "outputs": [
    {
     "name": "stdout",
     "output_type": "stream",
     "text": [
      "Farooq Abbas\n",
      "Farooq.Abbas@gmail.com\n",
      "Ahmad Abbas\n"
     ]
    }
   ],
   "source": [
    "class Employee:\n",
    "    def __init__(self,fname,lname,salary):\n",
    "        self.fname=fname\n",
    "        self.lname=lname\n",
    "        self.salary=salary\n",
    "        self.email= fname +'.'+lname+'@gmail.com'\n",
    "        \n",
    "    def fullname(self):\n",
    "        return '{} {}'.format(self.fname , self.lname)\n",
    "    \n",
    "e1=Employee('Farooq','Abbas',70000)\n",
    "e2=Employee('Ahmad','Abbas',80000)\n",
    "print(e1.fullname())\n",
    "print(e1.email)\n",
    "print(Employee.fullname(e2))"
   ]
  }
 ],
 "metadata": {
  "kernelspec": {
   "display_name": "Python 3",
   "language": "python",
   "name": "python3"
  },
  "language_info": {
   "codemirror_mode": {
    "name": "ipython",
    "version": 3
   },
   "file_extension": ".py",
   "mimetype": "text/x-python",
   "name": "python",
   "nbconvert_exporter": "python",
   "pygments_lexer": "ipython3",
   "version": "3.7.0"
  }
 },
 "nbformat": 4,
 "nbformat_minor": 2
}
