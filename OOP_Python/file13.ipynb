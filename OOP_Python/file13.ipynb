{
 "cells": [
  {
   "cell_type": "code",
   "execution_count": 18,
   "metadata": {},
   "outputs": [
    {
     "name": "stdout",
     "output_type": "stream",
     "text": [
      "70000\n",
      "2\n",
      "72800.0\n"
     ]
    }
   ],
   "source": [
    "class Employee:\n",
    "    raise_amount=1.04\n",
    "    total_employee=0\n",
    "    def __init__(self,fname,pay):\n",
    "        self.fname=fname\n",
    "        self.pay=pay\n",
    "        Employee.total_employee+=1\n",
    "        \n",
    "    def increase_pay(self):\n",
    "        return self.pay* Employee.raise_amount\n",
    "    \n",
    "e1=Employee('Farooq',70000)   \n",
    "e2=Employee('Ali',80000)\n",
    "print(e1.pay)\n",
    "print(Employee.total_employee)\n",
    "print(e1.increase_pay())\n",
    "    \n",
    "    "
   ]
  }
 ],
 "metadata": {
  "kernelspec": {
   "display_name": "Python 3",
   "language": "python",
   "name": "python3"
  },
  "language_info": {
   "codemirror_mode": {
    "name": "ipython",
    "version": 3
   },
   "file_extension": ".py",
   "mimetype": "text/x-python",
   "name": "python",
   "nbconvert_exporter": "python",
   "pygments_lexer": "ipython3",
   "version": "3.7.0"
  }
 },
 "nbformat": 4,
 "nbformat_minor": 2
}
