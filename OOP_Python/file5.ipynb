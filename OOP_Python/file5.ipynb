{
 "cells": [
  {
   "cell_type": "code",
   "execution_count": 21,
   "metadata": {},
   "outputs": [
    {
     "name": "stdout",
     "output_type": "stream",
     "text": [
      "Rangers\n",
      "This is student class\n"
     ]
    }
   ],
   "source": [
    "class Student:    \n",
    "    college=\"Rangers\"\n",
    "    \n",
    "    @classmethod\n",
    "    def getSchool(cls):\n",
    "        return cls.college\n",
    "    \n",
    "    @staticmethod                  # when you are not going to work\n",
    "    def info():                    #on instances or class \n",
    "        print(\"This is student class\")\n",
    "        \n",
    "\n",
    "    \n",
    "\n",
    "s1=Student()    \n",
    "print(Student.getSchool())   \n",
    "Student.info()\n",
    "    "
   ]
  }
 ],
 "metadata": {
  "kernelspec": {
   "display_name": "Python 3",
   "language": "python",
   "name": "python3"
  },
  "language_info": {
   "codemirror_mode": {
    "name": "ipython",
    "version": 3
   },
   "file_extension": ".py",
   "mimetype": "text/x-python",
   "name": "python",
   "nbconvert_exporter": "python",
   "pygments_lexer": "ipython3",
   "version": "3.7.0"
  }
 },
 "nbformat": 4,
 "nbformat_minor": 2
}
