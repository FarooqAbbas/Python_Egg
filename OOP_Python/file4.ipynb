{
 "cells": [
  {
   "cell_type": "code",
   "execution_count": 16,
   "metadata": {},
   "outputs": [
    {
     "name": "stdout",
     "output_type": "stream",
     "text": [
      "BMW 8 5\n",
      "BMW 10 5\n"
     ]
    }
   ],
   "source": [
    "class Car:\n",
    "    \n",
    "    WHEELS=4  #class variable\n",
    "    \n",
    "    def __init__(self):\n",
    "        self.mil=10\n",
    "        self.comp=\"BMW\"\n",
    "        \n",
    "c1= Car()\n",
    "c2=Car()\n",
    "\n",
    "Car.WHEELS=5\n",
    "\n",
    "c1.mil=8\n",
    "\n",
    "print(c1.comp ,c1.mil, c1.WHEELS)\n",
    "print(c2.comp,c2.mil,c1.WHEELS)\n",
    "\n",
    "        \n",
    "    "
   ]
  }
 ],
 "metadata": {
  "kernelspec": {
   "display_name": "Python 3",
   "language": "python",
   "name": "python3"
  },
  "language_info": {
   "codemirror_mode": {
    "name": "ipython",
    "version": 3
   },
   "file_extension": ".py",
   "mimetype": "text/x-python",
   "name": "python",
   "nbconvert_exporter": "python",
   "pygments_lexer": "ipython3",
   "version": "3.7.0"
  }
 },
 "nbformat": 4,
 "nbformat_minor": 2
}
