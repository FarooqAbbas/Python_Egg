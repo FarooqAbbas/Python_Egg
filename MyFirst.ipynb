{
 "cells": [
  {
   "cell_type": "code",
   "execution_count": 1,
   "metadata": {},
   "outputs": [
    {
     "name": "stdout",
     "output_type": "stream",
     "text": [
      "33986\n",
      "27.16218706649392\n",
      "8\n",
      "five\n",
      "['two', 'four']\n",
      "['five', 'four', 'three', 'one']\n",
      "['three', 'five', 'four', 'one', 'two']\n"
     ]
    }
   ],
   "source": [
    "import random\n",
    "\n",
    "\n",
    "print(random.randint(500, 50000))\n",
    "print(random.uniform(20, 30))\n",
    "print(random.randrange(1, 10))\n",
    "\n",
    "items = ['one', 'two', 'three', 'four', 'five']\n",
    "print(random.choice(items))\n",
    "print(random.choices(items ,k=2))\n",
    "\n",
    "print(random.sample(items,4))\n",
    "random.shuffle(items)\n",
    "print(items)"
   ]
  }
 ],
 "metadata": {
  "kernelspec": {
   "display_name": "Python 3",
   "language": "python",
   "name": "python3"
  },
  "language_info": {
   "codemirror_mode": {
    "name": "ipython",
    "version": 3
   },
   "file_extension": ".py",
   "mimetype": "text/x-python",
   "name": "python",
   "nbconvert_exporter": "python",
   "pygments_lexer": "ipython3",
   "version": "3.7.0"
  }
 },
 "nbformat": 4,
 "nbformat_minor": 2
}
